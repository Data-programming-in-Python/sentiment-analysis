{
 "cells": [
  {
   "cell_type": "markdown",
   "metadata": {},
   "source": [
    "## Import Dependencies"
   ]
  },
  {
   "cell_type": "code",
   "execution_count": 37,
   "metadata": {},
   "outputs": [
    {
     "name": "stdout",
     "output_type": "stream",
     "text": [
      "Requirement already satisfied: pandas in c:\\users\\jamie msi\\appdata\\roaming\\python\\python37\\site-packages (0.25.1)\n",
      "Requirement already satisfied: python-dateutil>=2.6.1 in c:\\programdata\\anaconda3\\lib\\site-packages (from pandas) (2.8.0)\n",
      "Requirement already satisfied: numpy>=1.13.3 in c:\\users\\jamie msi\\appdata\\roaming\\python\\python37\\site-packages (from pandas) (1.17.1)\n",
      "Requirement already satisfied: pytz>=2017.2 in c:\\programdata\\anaconda3\\lib\\site-packages (from pandas) (2019.1)\n",
      "Requirement already satisfied: six>=1.5 in c:\\programdata\\anaconda3\\lib\\site-packages (from python-dateutil>=2.6.1->pandas) (1.12.0)\n",
      "Requirement already satisfied: sklearn in c:\\users\\jamie msi\\appdata\\roaming\\python\\python37\\site-packages (0.0)\n",
      "Requirement already satisfied: scikit-learn in c:\\programdata\\anaconda3\\lib\\site-packages (from sklearn) (0.21.2)\n",
      "Requirement already satisfied: joblib>=0.11 in c:\\programdata\\anaconda3\\lib\\site-packages (from scikit-learn->sklearn) (0.13.2)\n",
      "Requirement already satisfied: numpy>=1.11.0 in c:\\users\\jamie msi\\appdata\\roaming\\python\\python37\\site-packages (from scikit-learn->sklearn) (1.17.1)\n",
      "Requirement already satisfied: scipy>=0.17.0 in c:\\programdata\\anaconda3\\lib\\site-packages (from scikit-learn->sklearn) (1.2.1)\n"
     ]
    }
   ],
   "source": [
    "! pip install pandas\n",
    "! pip install sklearn\n",
    "\n",
    "import pandas as pd\n",
    "from sklearn.model_selection import train_test_split"
   ]
  },
  {
   "cell_type": "markdown",
   "metadata": {},
   "source": [
    "## Get Vectorized Data"
   ]
  },
  {
   "cell_type": "code",
   "execution_count": 38,
   "metadata": {
    "scrolled": true
   },
   "outputs": [],
   "source": [
    "vectorized = pd.read_csv('vectorized.csv')"
   ]
  },
  {
   "cell_type": "markdown",
   "metadata": {},
   "source": [
    "## Split the data"
   ]
  },
  {
   "cell_type": "code",
   "execution_count": 43,
   "metadata": {},
   "outputs": [
    {
     "name": "stdout",
     "output_type": "stream",
     "text": [
      "x_test\n",
      "       tomahawk  paycheck  wu  mug  laughton  crashingli  lush  apo  \\\n",
      "37718         0         0   0    0         0           0     0    0   \n",
      "23445         0         0   0    0         0           0     0    0   \n",
      "77958         0         0   0    0         0           0     0    0   \n",
      "58749         0         0   0    0         0           0     0    0   \n",
      "6398          0         0   0    0         0           0     0    0   \n",
      "...         ...       ...  ..  ...       ...         ...   ...  ...   \n",
      "39118         0         0   0    0         0           0     0    0   \n",
      "85106         0         0   0    0         0           0     0    0   \n",
      "13826         0         0   0    0         0           0     0    0   \n",
      "60270         0         0   0    0         0           0     0    0   \n",
      "41434         0         0   0    0         0           0     0    0   \n",
      "\n",
      "       perfunctorili  poppi  ...  frontlin  cherish  salvag  livedin  pronto  \\\n",
      "37718              0      0  ...         0        0       0        0       0   \n",
      "23445              0      0  ...         0        0       0        0       0   \n",
      "77958              0      0  ...         0        0       0        0       0   \n",
      "58749              0      0  ...         0        0       0        0       0   \n",
      "6398               0      0  ...         0        0       0        0       0   \n",
      "...              ...    ...  ...       ...      ...     ...      ...     ...   \n",
      "39118              0      0  ...         0        0       0        0       0   \n",
      "85106              0      0  ...         0        0       0        0       0   \n",
      "13826              0      0  ...         0        0       0        0       0   \n",
      "60270              0      0  ...         0        0       0        0       0   \n",
      "41434              0      0  ...         0        0       0        0       0   \n",
      "\n",
      "       overdos  hymn  perlman  soderbergh  inflect  \n",
      "37718        0     0        0           0        0  \n",
      "23445        0     0        0           0        0  \n",
      "77958        0     0        0           0        0  \n",
      "58749        0     0        0           0        0  \n",
      "6398         0     0        0           0        0  \n",
      "...        ...   ...      ...         ...      ...  \n",
      "39118        0     0        0           0        0  \n",
      "85106        0     0        0           0        0  \n",
      "13826        0     0        0           0        0  \n",
      "60270        0     0        0           0        0  \n",
      "41434        0     0        0           0        0  \n",
      "\n",
      "[26166 rows x 6156 columns]\n"
     ]
    }
   ],
   "source": [
    "from sklearn.model_selection import train_test_split\n",
    "\n",
    "x_train, x_test, y_train, y_test = train_test_split(\n",
    "    vectorized, vectorized['_Freshness'], test_size=0.3, random_state=42)\n",
    "\n",
    "print('x_test')\n",
    "print(x_test)\n"
   ]
  },
  {
   "cell_type": "markdown",
   "metadata": {},
   "source": [
    "## Multinomial Naive Bayes Classifier"
   ]
  },
  {
   "cell_type": "code",
   "execution_count": 40,
   "metadata": {},
   "outputs": [
    {
     "name": "stdout",
     "output_type": "stream",
     "text": [
      "MultinomialNB Accuracy: 0.861270350836964\n",
      "Confusion Matrix [[ 8748  3630]\n",
      " [    0 13788]]\n"
     ]
    }
   ],
   "source": [
    "from sklearn.naive_bayes import MultinomialNB\n",
    "from sklearn import metrics\n",
    "\n",
    "clf = MultinomialNB().fit(x_train, y_train)\n",
    "predicted= clf.predict(x_test)\n",
    "print(\"MultinomialNB Accuracy:\",metrics.accuracy_score(y_test, predicted))\n",
    "\n",
    "print('Confusion Matrix', metrics.confusion_matrix(y_test, predicted))\n"
   ]
  },
  {
   "cell_type": "markdown",
   "metadata": {},
   "source": [
    "## Export Model"
   ]
  },
  {
   "cell_type": "code",
   "execution_count": 41,
   "metadata": {},
   "outputs": [
    {
     "name": "stderr",
     "output_type": "stream",
     "text": [
      "C:\\ProgramData\\Anaconda3\\lib\\site-packages\\sklearn\\externals\\joblib\\__init__.py:15: DeprecationWarning: sklearn.externals.joblib is deprecated in 0.21 and will be removed in 0.23. Please import this functionality directly from joblib, which can be installed with: pip install joblib. If this warning is raised when loading pickled models, you may need to re-serialize those models with scikit-learn 0.21+.\n",
      "  warnings.warn(msg, category=DeprecationWarning)\n"
     ]
    },
    {
     "data": {
      "text/plain": [
       "['clf_model.pkl']"
      ]
     },
     "execution_count": 41,
     "metadata": {},
     "output_type": "execute_result"
    }
   ],
   "source": [
    "from sklearn.externals import joblib\n",
    "\n",
    "joblib.dump(clf, 'clf_model.pkl')\n"
   ]
  },
  {
   "cell_type": "code",
   "execution_count": null,
   "metadata": {},
   "outputs": [],
   "source": []
  },
  {
   "cell_type": "code",
   "execution_count": null,
   "metadata": {},
   "outputs": [],
   "source": []
  },
  {
   "cell_type": "code",
   "execution_count": null,
   "metadata": {},
   "outputs": [],
   "source": []
  },
  {
   "cell_type": "code",
   "execution_count": null,
   "metadata": {},
   "outputs": [],
   "source": []
  },
  {
   "cell_type": "code",
   "execution_count": null,
   "metadata": {},
   "outputs": [],
   "source": []
  },
  {
   "cell_type": "code",
   "execution_count": null,
   "metadata": {},
   "outputs": [],
   "source": []
  },
  {
   "cell_type": "code",
   "execution_count": null,
   "metadata": {},
   "outputs": [],
   "source": []
  },
  {
   "cell_type": "code",
   "execution_count": null,
   "metadata": {},
   "outputs": [],
   "source": []
  },
  {
   "cell_type": "code",
   "execution_count": null,
   "metadata": {},
   "outputs": [],
   "source": []
  },
  {
   "cell_type": "code",
   "execution_count": null,
   "metadata": {},
   "outputs": [],
   "source": []
  }
 ],
 "metadata": {
  "kernelspec": {
   "display_name": "Python 3",
   "language": "python",
   "name": "python3"
  },
  "language_info": {
   "codemirror_mode": {
    "name": "ipython",
    "version": 3
   },
   "file_extension": ".py",
   "mimetype": "text/x-python",
   "name": "python",
   "nbconvert_exporter": "python",
   "pygments_lexer": "ipython3",
   "version": "3.7.3"
  }
 },
 "nbformat": 4,
 "nbformat_minor": 2
}
